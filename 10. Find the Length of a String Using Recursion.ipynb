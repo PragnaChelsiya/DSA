{
 "cells": [
  {
   "cell_type": "code",
   "execution_count": 1,
   "id": "ca5f7092-239d-47a6-b09c-55a6cd951ed6",
   "metadata": {},
   "outputs": [
    {
     "name": "stdout",
     "output_type": "stream",
     "text": [
      "5\n"
     ]
    }
   ],
   "source": [
    "def length_of_string(s):\n",
    "    if s == \"\":\n",
    "        return 0\n",
    "    return 1 + length_of_string(s[1:])\n",
    "\n",
    "# Example usage\n",
    "print(length_of_string(\"Hello\"))  # Output: 5\n"
   ]
  },
  {
   "cell_type": "code",
   "execution_count": null,
   "id": "29bab542-27c3-4d38-b37c-9fee9559fc2b",
   "metadata": {},
   "outputs": [],
   "source": []
  }
 ],
 "metadata": {
  "kernelspec": {
   "display_name": "Python 3 (ipykernel)",
   "language": "python",
   "name": "python3"
  },
  "language_info": {
   "codemirror_mode": {
    "name": "ipython",
    "version": 3
   },
   "file_extension": ".py",
   "mimetype": "text/x-python",
   "name": "python",
   "nbconvert_exporter": "python",
   "pygments_lexer": "ipython3",
   "version": "3.12.4"
  }
 },
 "nbformat": 4,
 "nbformat_minor": 5
}
