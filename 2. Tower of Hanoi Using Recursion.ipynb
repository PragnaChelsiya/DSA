{
 "cells": [
  {
   "cell_type": "code",
   "execution_count": 1,
   "id": "94036a7e-0f8a-4f7a-a259-b7e0068ebb95",
   "metadata": {},
   "outputs": [
    {
     "name": "stdout",
     "output_type": "stream",
     "text": [
      "Move disk 1 from A to C\n",
      "Move disk 2 from A to B\n",
      "Move disk 1 from C to B\n",
      "Move disk 3 from A to C\n",
      "Move disk 1 from B to A\n",
      "Move disk 2 from B to C\n",
      "Move disk 1 from A to C\n"
     ]
    }
   ],
   "source": [
    "def tower_of_hanoi(n, source, target, auxiliary):\n",
    "    if n == 1:  \n",
    "        print(f\"Move disk 1 from {source} to {target}\")\n",
    "    else:\n",
    "        tower_of_hanoi(n-1, source, auxiliary, target)\n",
    "        print(f\"Move disk {n} from {source} to {target}\")\n",
    "        tower_of_hanoi(n-1, auxiliary, target, source)\n",
    "\n",
    "# Example usage:\n",
    "tower_of_hanoi(3, 'A', 'C', 'B')  \n"
   ]
  },
  {
   "cell_type": "code",
   "execution_count": null,
   "id": "a9da1762-e337-4c8b-a6bb-731a3c416513",
   "metadata": {},
   "outputs": [],
   "source": []
  }
 ],
 "metadata": {
  "kernelspec": {
   "display_name": "Python 3 (ipykernel)",
   "language": "python",
   "name": "python3"
  },
  "language_info": {
   "codemirror_mode": {
    "name": "ipython",
    "version": 3
   },
   "file_extension": ".py",
   "mimetype": "text/x-python",
   "name": "python",
   "nbconvert_exporter": "python",
   "pygments_lexer": "ipython3",
   "version": "3.12.4"
  }
 },
 "nbformat": 4,
 "nbformat_minor": 5
}
