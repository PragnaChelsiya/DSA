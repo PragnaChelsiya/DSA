{
 "cells": [
  {
   "cell_type": "code",
   "execution_count": 5,
   "id": "6d680a72-8ab3-4397-a2a3-4af281a6fb10",
   "metadata": {},
   "outputs": [
    {
     "name": "stdout",
     "output_type": "stream",
     "text": [
      "0 1 1 2 3 5 8 13 21 34 "
     ]
    }
   ],
   "source": [
    "def fibonacci_even(n, a=0, b=1):\n",
    "    if n <= 0:\n",
    "        return\n",
    "    if n % 2 == 0:  # If n is even, print it\n",
    "        print(a, end=\" \")\n",
    "    fibonacci_odd(n-1, b, a + b)  # Move to the next Fibonacci number\n",
    "\n",
    "def fibonacci_odd(n, a=0, b=1):\n",
    "    if n <= 0:\n",
    "        return\n",
    "    if n % 2 != 0:  # If n is odd, print it\n",
    "        print(a, end=\" \")\n",
    "    fibonacci_even(n-1, b, a + b)  # Move to the next Fibonacci number\n",
    "\n",
    "# Example usage\n",
    "fibonacci_even(10)\n"
   ]
  },
  {
   "cell_type": "code",
   "execution_count": null,
   "id": "eadd997c-a597-47c4-88a1-277eefecc636",
   "metadata": {},
   "outputs": [],
   "source": []
  }
 ],
 "metadata": {
  "kernelspec": {
   "display_name": "Python 3 (ipykernel)",
   "language": "python",
   "name": "python3"
  },
  "language_info": {
   "codemirror_mode": {
    "name": "ipython",
    "version": 3
   },
   "file_extension": ".py",
   "mimetype": "text/x-python",
   "name": "python",
   "nbconvert_exporter": "python",
   "pygments_lexer": "ipython3",
   "version": "3.12.4"
  }
 },
 "nbformat": 4,
 "nbformat_minor": 5
}
