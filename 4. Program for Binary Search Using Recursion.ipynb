{
 "cells": [
  {
   "cell_type": "code",
   "execution_count": null,
   "id": "44c95b28-a2a1-45bf-a4d6-c8d8a6667c68",
   "metadata": {},
   "outputs": [],
   "source": [
    "def binary_search(arr, target, low, high):\n",
    "    if low > high:\n",
    "        return -1  # Element is not in the list\n",
    "\n",
    "    mid = (low + high) // 2\n",
    "    if arr[mid] == target:\n",
    "        return mid  # Element found\n",
    "    elif arr[mid] > target:\n",
    "        return binary_search(arr, target, low, mid - 1)  # Search left half\n",
    "    else:\n",
    "        return binary_search(arr, target, mid + 1, high)  # Search right half\n",
    "\n",
    "# Example usage\n",
    "arr = [1, 3, 5, 7, 9, 11, 13]\n",
    "target = 7\n",
    "result = binary_search(arr, target, 0, len(arr) - 1)\n",
    "print(result)  \n"
   ]
  }
 ],
 "metadata": {
  "kernelspec": {
   "display_name": "Python 3 (ipykernel)",
   "language": "python",
   "name": "python3"
  },
  "language_info": {
   "codemirror_mode": {
    "name": "ipython",
    "version": 3
   },
   "file_extension": ".py",
   "mimetype": "text/x-python",
   "name": "python",
   "nbconvert_exporter": "python",
   "pygments_lexer": "ipython3",
   "version": "3.12.4"
  }
 },
 "nbformat": 4,
 "nbformat_minor": 5
}
