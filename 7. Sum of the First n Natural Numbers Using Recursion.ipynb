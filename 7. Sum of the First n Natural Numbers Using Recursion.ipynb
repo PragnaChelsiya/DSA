{
 "cells": [
  {
   "cell_type": "code",
   "execution_count": 1,
   "id": "862a3d01-56ef-409a-8512-d51de067969f",
   "metadata": {},
   "outputs": [
    {
     "name": "stdout",
     "output_type": "stream",
     "text": [
      "15\n"
     ]
    }
   ],
   "source": [
    "def sum_natural_numbers(n):\n",
    "    if n == 1:\n",
    "        return 1\n",
    "    return n + sum_natural_numbers(n - 1)\n",
    "\n",
    "# Example usage\n",
    "print(sum_natural_numbers(5))  # Output: 15\n"
   ]
  },
  {
   "cell_type": "code",
   "execution_count": null,
   "id": "985b0201-eb46-4afa-98d7-df1ff62d43c4",
   "metadata": {},
   "outputs": [],
   "source": []
  }
 ],
 "metadata": {
  "kernelspec": {
   "display_name": "Python 3 (ipykernel)",
   "language": "python",
   "name": "python3"
  },
  "language_info": {
   "codemirror_mode": {
    "name": "ipython",
    "version": 3
   },
   "file_extension": ".py",
   "mimetype": "text/x-python",
   "name": "python",
   "nbconvert_exporter": "python",
   "pygments_lexer": "ipython3",
   "version": "3.12.4"
  }
 },
 "nbformat": 4,
 "nbformat_minor": 5
}
