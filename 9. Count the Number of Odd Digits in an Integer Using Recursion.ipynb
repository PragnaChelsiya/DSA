{
 "cells": [
  {
   "cell_type": "code",
   "execution_count": 1,
   "id": "986b6bfb-8158-4545-976c-412fd37382db",
   "metadata": {},
   "outputs": [
    {
     "name": "stdout",
     "output_type": "stream",
     "text": [
      "3\n"
     ]
    }
   ],
   "source": [
    "def count_odd_digits(n):\n",
    "    if n == 0:\n",
    "        return 0\n",
    "    return (1 if n % 10 % 2 != 0 else 0) + count_odd_digits(n // 10)\n",
    "\n",
    "# Example usage\n",
    "print(count_odd_digits(123456))  # Output: 3\n"
   ]
  },
  {
   "cell_type": "code",
   "execution_count": null,
   "id": "dd0e4974-0f6b-4ceb-9845-d993f1eab257",
   "metadata": {},
   "outputs": [],
   "source": []
  }
 ],
 "metadata": {
  "kernelspec": {
   "display_name": "Python 3 (ipykernel)",
   "language": "python",
   "name": "python3"
  },
  "language_info": {
   "codemirror_mode": {
    "name": "ipython",
    "version": 3
   },
   "file_extension": ".py",
   "mimetype": "text/x-python",
   "name": "python",
   "nbconvert_exporter": "python",
   "pygments_lexer": "ipython3",
   "version": "3.12.4"
  }
 },
 "nbformat": 4,
 "nbformat_minor": 5
}
