{
 "cells": [
  {
   "cell_type": "code",
   "execution_count": 5,
   "id": "3de66154-5ca4-41df-9d80-5b904f005922",
   "metadata": {},
   "outputs": [
    {
     "name": "stdout",
     "output_type": "stream",
     "text": [
      "Output: [1, 1, 1, 1, 1, 0, 0, 0]\n"
     ]
    }
   ],
   "source": [
    "#all Zeros to end\n",
    "import numpy as np\n",
    "x=np.array([0,1,0,1,0,1,1,1])\n",
    "def Move_Zero_end(x):\n",
    "    Count_0= 0\n",
    "    Store_1= 0\n",
    "    for i in x:\n",
    "        if i ==1:\n",
    "            Store_1 +=1\n",
    "        else:\n",
    "            Count_0 +=1\n",
    "    result=([1]*Store_1)+([0]*Count_0)\n",
    "    return result\n",
    "print(\"Output:\",Move_Zero_end(x))"
   ]
  },
  {
   "cell_type": "code",
   "execution_count": 31,
   "id": "7ef9ea2c-5631-4caa-b1ab-640589f51b50",
   "metadata": {},
   "outputs": [
    {
     "name": "stdout",
     "output_type": "stream",
     "text": [
      "Array after moving zeros : [1 1 1 1 0 0 0 0 0]\n"
     ]
    }
   ],
   "source": [
    "import numpy as np\n",
    "x = np.array([0, 1, 1, 0, 1, 0, 1, 0, 0])\n",
    "def move_zeros(arr):\n",
    "    ones = arr[arr == 1]\n",
    "    zeros = arr[arr == 0]\n",
    "    return np.concatenate((ones, zeros))\n",
    "x_sorted = move_zeros(x)\n",
    "print(\"Array after moving zeros :\", x_sorted)"
   ]
  },
  {
   "cell_type": "code",
   "execution_count": 33,
   "id": "51fdde9f-8223-4c28-9f6d-a3ee39e94f3b",
   "metadata": {},
   "outputs": [
    {
     "name": "stdout",
     "output_type": "stream",
     "text": [
      "output: [1, 1, 1, 1, 1, 0, 0, 0]\n"
     ]
    }
   ],
   "source": [
    "import numpy as np\n",
    "x = np.array([0, 1, 0, 1, 0, 1, 1, 1])\n",
    "def Move_Zero_end(x):\n",
    "    Count_0 = 0\n",
    "    Store_1 = 0\n",
    "    i = len(x)-1\n",
    "    while i >= 0:\n",
    "        if x[i] == 1:\n",
    "            Store_1 += 1\n",
    "        else:\n",
    "            Count_0 += 1\n",
    "        i -= 1\n",
    "    result = [1] * Store_1 + [0] * Count_0\n",
    "    return result\n",
    "print(\"output:\", Move_Zero_end(x))"
   ]
  },
  {
   "cell_type": "code",
   "execution_count": null,
   "id": "97dbb9da-265f-431d-acf7-efada6c11706",
   "metadata": {},
   "outputs": [],
   "source": []
  }
 ],
 "metadata": {
  "kernelspec": {
   "display_name": "Python 3 (ipykernel)",
   "language": "python",
   "name": "python3"
  },
  "language_info": {
   "codemirror_mode": {
    "name": "ipython",
    "version": 3
   },
   "file_extension": ".py",
   "mimetype": "text/x-python",
   "name": "python",
   "nbconvert_exporter": "python",
   "pygments_lexer": "ipython3",
   "version": "3.12.4"
  }
 },
 "nbformat": 4,
 "nbformat_minor": 5
}
