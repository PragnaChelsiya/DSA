{
 "cells": [
  {
   "cell_type": "code",
   "execution_count": 3,
   "id": "771b5c68-59ba-4e64-b88f-4148cd7da051",
   "metadata": {},
   "outputs": [
    {
     "ename": "SyntaxError",
     "evalue": "invalid syntax (2913084737.py, line 2)",
     "output_type": "error",
     "traceback": [
      "\u001b[1;36m  Cell \u001b[1;32mIn[3], line 2\u001b[1;36m\u001b[0m\n\u001b[1;33m    Euclid_gcd(m,n):\u001b[0m\n\u001b[1;37m                   ^\u001b[0m\n\u001b[1;31mSyntaxError\u001b[0m\u001b[1;31m:\u001b[0m invalid syntax\n"
     ]
    }
   ],
   "source": [
    "#prerequisite:m>n\n",
    "Euclid_gcd(m,n):\n",
    "  if b=0 then:\n",
    "   return m:\n",
    "else:\n",
    "    return Euclid_gcd(b,m mod n):\n",
    "print (Euclid_gcd(7,63))\n"
   ]
  },
  {
   "cell_type": "code",
   "execution_count": null,
   "id": "f6f7ee94-c935-4d9a-892f-21895e4be8e7",
   "metadata": {},
   "outputs": [],
   "source": []
  }
 ],
 "metadata": {
  "kernelspec": {
   "display_name": "Python 3 (ipykernel)",
   "language": "python",
   "name": "python3"
  },
  "language_info": {
   "codemirror_mode": {
    "name": "ipython",
    "version": 3
   },
   "file_extension": ".py",
   "mimetype": "text/x-python",
   "name": "python",
   "nbconvert_exporter": "python",
   "pygments_lexer": "ipython3",
   "version": "3.12.4"
  }
 },
 "nbformat": 4,
 "nbformat_minor": 5
}
