{
 "cells": [
  {
   "cell_type": "code",
   "execution_count": 28,
   "id": "ae0b71fc-6075-472c-9b09-e9a6f5a3d43e",
   "metadata": {},
   "outputs": [
    {
     "name": "stdin",
     "output_type": "stream",
     "text": [
      " 10\n"
     ]
    },
    {
     "name": "stdout",
     "output_type": "stream",
     "text": [
      "element is found\n"
     ]
    }
   ],
   "source": [
    "#sequential search called linear search\n",
    "def linear_search(arr,key):\n",
    "    size = len(arr)\n",
    "    index = 0\n",
    "    while index<size:\n",
    "        if arr[index]==key:\n",
    "            return index\n",
    "        index= index+1\n",
    "    return -1\n",
    "\n",
    "#take user input\n",
    "arr=[15,10,0,20,40]\n",
    "key=int(input())\n",
    "position = linear_search(arr,key)\n",
    "if position==-1:\n",
    "    print(\"element is not found\")\n",
    "else:\n",
    "    print(\"element is found\")"
   ]
  },
  {
   "cell_type": "code",
   "execution_count": null,
   "id": "adef413e-c387-4fe9-903c-cc87ed4a4eb2",
   "metadata": {},
   "outputs": [],
   "source": []
  }
 ],
 "metadata": {
  "kernelspec": {
   "display_name": "Python 3 (ipykernel)",
   "language": "python",
   "name": "python3"
  },
  "language_info": {
   "codemirror_mode": {
    "name": "ipython",
    "version": 3
   },
   "file_extension": ".py",
   "mimetype": "text/x-python",
   "name": "python",
   "nbconvert_exporter": "python",
   "pygments_lexer": "ipython3",
   "version": "3.12.4"
  }
 },
 "nbformat": 4,
 "nbformat_minor": 5
}
