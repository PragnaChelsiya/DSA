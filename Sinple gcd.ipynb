{
 "cells": [
  {
   "cell_type": "code",
   "execution_count": 23,
   "id": "3aaaae79-5ebc-46a4-9260-b1032707a12f",
   "metadata": {},
   "outputs": [
    {
     "name": "stdout",
     "output_type": "stream",
     "text": [
      "7\n"
     ]
    }
   ],
   "source": [
    "\n",
    "def simple_gcd(m,n):\n",
    " fm=[]\n",
    " for i in range(1,m+1):\n",
    "   if (m%i)==0:\n",
    "      fm.append(i)\n",
    "\n",
    " fn=[]\n",
    " for j in range(1,n+1):\n",
    "   if (n%j)==0:\n",
    "      fn.append(j)\n",
    "\n",
    " cf=[]\n",
    " for k in fm:\n",
    "  if k in fn:\n",
    "      cf.append(k)\n",
    "\n",
    " return(cf[-1])\n",
    "print(simple_gcd(14,63))"
   ]
  },
  {
   "cell_type": "code",
   "execution_count": null,
   "id": "7890ea32-1362-4c41-b136-fa87b2396bbd",
   "metadata": {},
   "outputs": [],
   "source": []
  }
 ],
 "metadata": {
  "kernelspec": {
   "display_name": "Python 3 (ipykernel)",
   "language": "python",
   "name": "python3"
  },
  "language_info": {
   "codemirror_mode": {
    "name": "ipython",
    "version": 3
   },
   "file_extension": ".py",
   "mimetype": "text/x-python",
   "name": "python",
   "nbconvert_exporter": "python",
   "pygments_lexer": "ipython3",
   "version": "3.12.4"
  }
 },
 "nbformat": 4,
 "nbformat_minor": 5
}
