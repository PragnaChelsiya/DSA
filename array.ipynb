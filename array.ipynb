{
 "cells": [
  {
   "cell_type": "code",
   "execution_count": 1,
   "id": "e0d1d2ad-96c4-4366-a09e-74662fa3def2",
   "metadata": {},
   "outputs": [
    {
     "name": "stdout",
     "output_type": "stream",
     "text": [
      "Original array: [1, 2, 3, 4, 5]\n",
      "Product array: [120, 60, 40, 30, 24]\n"
     ]
    }
   ],
   "source": [
    "def product_array(n, arr):\n",
    "    # Initialize an empty product array\n",
    "    prod_arr = [1] * n\n",
    "    \n",
    "    # Calculate product of elements to the left of each index\n",
    "    left_prod = 1\n",
    "    for i in range(n):\n",
    "        prod_arr[i] = left_prod\n",
    "        left_prod *= arr[i]\n",
    "    \n",
    "    # Calculate product of elements to the right of each index\n",
    "    right_prod = 1\n",
    "    for i in range(n - 1, -1, -1):\n",
    "        prod_arr[i] *= right_prod\n",
    "        right_prod *= arr[i]\n",
    "    \n",
    "    return prod_arr\n",
    "\n",
    "# Example usage:\n",
    "n = 5\n",
    "arr = [1,2,3,4,5]\n",
    "result = product_array(n, arr)\n",
    "\n",
    "print(\"Original array:\", arr)\n",
    "print(\"Product array:\", result)\n"
   ]
  },
  {
   "cell_type": "code",
   "execution_count": null,
   "id": "e752216d-c508-4024-b750-1d3a33bc0b0b",
   "metadata": {},
   "outputs": [],
   "source": []
  }
 ],
 "metadata": {
  "kernelspec": {
   "display_name": "Python 3 (ipykernel)",
   "language": "python",
   "name": "python3"
  },
  "language_info": {
   "codemirror_mode": {
    "name": "ipython",
    "version": 3
   },
   "file_extension": ".py",
   "mimetype": "text/x-python",
   "name": "python",
   "nbconvert_exporter": "python",
   "pygments_lexer": "ipython3",
   "version": "3.12.4"
  }
 },
 "nbformat": 4,
 "nbformat_minor": 5
}
