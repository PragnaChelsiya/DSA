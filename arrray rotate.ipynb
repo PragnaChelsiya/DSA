{
 "cells": [
  {
   "cell_type": "code",
   "execution_count": 14,
   "id": "382df24f-a44e-465c-af75-5da616303c6c",
   "metadata": {},
   "outputs": [
    {
     "name": "stdout",
     "output_type": "stream",
     "text": [
      "[4, 5, 1, 2, 3]\n"
     ]
    }
   ],
   "source": [
    "def rotate_array(arr, k):\n",
    "    k = k % len(arr)\n",
    "    return arr[-k:] + arr[:-k]\n",
    "\n",
    "arr = [1, 2, 3, 4, 5]\n",
    "k = 2\n",
    "result = rotate_array(arr, k)\n",
    "print(result)\n"
   ]
  },
  {
   "cell_type": "code",
   "execution_count": null,
   "id": "f49accc7-97b9-4306-b32a-7c5107c28bd1",
   "metadata": {},
   "outputs": [],
   "source": []
  }
 ],
 "metadata": {
  "kernelspec": {
   "display_name": "Python 3 (ipykernel)",
   "language": "python",
   "name": "python3"
  },
  "language_info": {
   "codemirror_mode": {
    "name": "ipython",
    "version": 3
   },
   "file_extension": ".py",
   "mimetype": "text/x-python",
   "name": "python",
   "nbconvert_exporter": "python",
   "pygments_lexer": "ipython3",
   "version": "3.12.4"
  }
 },
 "nbformat": 4,
 "nbformat_minor": 5
}
