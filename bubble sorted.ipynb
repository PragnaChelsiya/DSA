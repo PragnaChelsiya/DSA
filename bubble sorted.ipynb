{
 "cells": [
  {
   "cell_type": "code",
   "execution_count": 5,
   "id": "924443e9-864c-42bf-a3d6-a870715104f7",
   "metadata": {},
   "outputs": [
    {
     "name": "stdin",
     "output_type": "stream",
     "text": [
      "Enter number of elements: 10\n",
      "Enter elements 34\n",
      "Enter elements 56\n",
      "Enter elements 78\n",
      "Enter elements 23\n",
      "Enter elements 45\n",
      "Enter elements 90\n",
      "Enter elements 67\n",
      "Enter elements 82\n",
      "Enter elements 59\n",
      "Enter elements 42\n"
     ]
    },
    {
     "name": "stdout",
     "output_type": "stream",
     "text": [
      "The sorted elements are:\n",
      "23 34 42 45 56 59 67 78 82 90 "
     ]
    }
   ],
   "source": [
    "def bubble_sort(list):\n",
    "    size=len(list)\n",
    "    for i in range(size-1):\n",
    "        for j in range(size-1):\n",
    "            if list[j]>list[j+1]:\n",
    "                temp=list[j]\n",
    "                list[j]=list[j+1]\n",
    "                list[j+1]=temp\n",
    "n=int(input(\"Enter number of elements:\"))\n",
    "list=[]\n",
    "for i in range (n):\n",
    "    num=int(input(\"Enter elements\"))\n",
    "    list.append(num)\n",
    "\n",
    "bubble_sort(list)\n",
    "print(\"The sorted elements are:\")\n",
    "for i in range(n):\n",
    "    print (list[i],end=\" \")"
   ]
  },
  {
   "cell_type": "code",
   "execution_count": null,
   "id": "dc30ef7a-db87-4a95-945f-a87d4c3f2124",
   "metadata": {},
   "outputs": [],
   "source": []
  }
 ],
 "metadata": {
  "kernelspec": {
   "display_name": "Python 3 (ipykernel)",
   "language": "python",
   "name": "python3"
  },
  "language_info": {
   "codemirror_mode": {
    "name": "ipython",
    "version": 3
   },
   "file_extension": ".py",
   "mimetype": "text/x-python",
   "name": "python",
   "nbconvert_exporter": "python",
   "pygments_lexer": "ipython3",
   "version": "3.12.4"
  }
 },
 "nbformat": 4,
 "nbformat_minor": 5
}
