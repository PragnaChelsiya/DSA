{
 "cells": [
  {
   "cell_type": "code",
   "execution_count": 1,
   "id": "7ca3bbc8-38e1-4d1b-9ca7-dbce5346ed62",
   "metadata": {},
   "outputs": [
    {
     "name": "stdin",
     "output_type": "stream",
     "text": [
      " 20\n"
     ]
    },
    {
     "name": "stdout",
     "output_type": "stream",
     "text": [
      "1\n"
     ]
    }
   ],
   "source": [
    "import numpy as np\n",
    "x=np.array([10,20,30,40,50])\n",
    "s_ele=int(input())\n",
    "def i_ele(x,s_else):\n",
    "    try:\n",
    "      n=len(x)\n",
    "      for i in range(n):\n",
    "          if x[i]==s_ele:\n",
    "              return i\n",
    "      raise ValueError(\"Element not found\")\n",
    "    except ValueError:\n",
    "      return -1\n",
    "result=i_ele(x,s_ele)\n",
    "print(result)"
   ]
  },
  {
   "cell_type": "code",
   "execution_count": null,
   "id": "dab93383-a2c7-4fbd-a0ed-c460c8368b17",
   "metadata": {},
   "outputs": [],
   "source": []
  }
 ],
 "metadata": {
  "kernelspec": {
   "display_name": "Python 3 (ipykernel)",
   "language": "python",
   "name": "python3"
  },
  "language_info": {
   "codemirror_mode": {
    "name": "ipython",
    "version": 3
   },
   "file_extension": ".py",
   "mimetype": "text/x-python",
   "name": "python",
   "nbconvert_exporter": "python",
   "pygments_lexer": "ipython3",
   "version": "3.12.4"
  }
 },
 "nbformat": 4,
 "nbformat_minor": 5
}
