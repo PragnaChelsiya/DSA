{
 "cells": [
  {
   "cell_type": "code",
   "execution_count": 15,
   "id": "e69dbd50-c8b6-443a-b959-6816ab0e8010",
   "metadata": {},
   "outputs": [
    {
     "name": "stdout",
     "output_type": "stream",
     "text": [
      "last index of one: -1\n"
     ]
    }
   ],
   "source": [
    "import numpy as np\n",
    "x=np.array([0,0,0,0,0,0,0,0,0])\n",
    "def last1_occur(x):\n",
    "    index=-1\n",
    "    n=len(x)\n",
    "    for i in range(n):\n",
    "      if x[i]==1:\n",
    "          index=i\n",
    "    return index\n",
    "print(\"last index of one:\",last1_occur(x))    "
   ]
  },
  {
   "cell_type": "code",
   "execution_count": null,
   "id": "4ef1a6ce-f176-4a4f-aa59-46985aca7677",
   "metadata": {},
   "outputs": [],
   "source": []
  }
 ],
 "metadata": {
  "kernelspec": {
   "display_name": "Python 3 (ipykernel)",
   "language": "python",
   "name": "python3"
  },
  "language_info": {
   "codemirror_mode": {
    "name": "ipython",
    "version": 3
   },
   "file_extension": ".py",
   "mimetype": "text/x-python",
   "name": "python",
   "nbconvert_exporter": "python",
   "pygments_lexer": "ipython3",
   "version": "3.12.4"
  }
 },
 "nbformat": 4,
 "nbformat_minor": 5
}
