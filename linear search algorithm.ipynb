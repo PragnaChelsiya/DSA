{
 "cells": [
  {
   "cell_type": "code",
   "execution_count": 16,
   "id": "ddab50de-b349-49f7-bcec-e61b0d7f0eff",
   "metadata": {},
   "outputs": [
    {
     "name": "stdout",
     "output_type": "stream",
     "text": [
      "Element found at index  2\n"
     ]
    }
   ],
   "source": [
    "def linear_search(arr, n, target):\n",
    "        for i in range(n):\n",
    "          if arr[i] == target:\n",
    "            return i  \n",
    "        return -1  \n",
    "\n",
    "arr = [10, 20, 30, 40, 50]\n",
    "n = len(arr)\n",
    "target = 30\n",
    "\n",
    "result = linear_search(arr, n, target)\n",
    "\n",
    "if result != -1:\n",
    "    print(\"Element found at index \",result)\n",
    "else:\n",
    "    print(\"Element  not found\")\n"
   ]
  },
  {
   "cell_type": "code",
   "execution_count": null,
   "id": "c93846b7-cf6f-4be8-b4c6-fc994d4a8be6",
   "metadata": {},
   "outputs": [],
   "source": [
    "def linear_search(arr,n,target):\n",
    "    for i in range(n):\n",
    "        if arr[i]==target:\n",
    "            return i\n",
    "        return -1\n",
    "        def l\n",
    "        for i in "
   ]
  },
  {
   "cell_type": "code",
   "execution_count": null,
   "id": "ed02f108-383a-4c1a-a75f-16597abe82ba",
   "metadata": {},
   "outputs": [],
   "source": [
    "def l_s(arrr,)"
   ]
  }
 ],
 "metadata": {
  "kernelspec": {
   "display_name": "Python 3 (ipykernel)",
   "language": "python",
   "name": "python3"
  },
  "language_info": {
   "codemirror_mode": {
    "name": "ipython",
    "version": 3
   },
   "file_extension": ".py",
   "mimetype": "text/x-python",
   "name": "python",
   "nbconvert_exporter": "python",
   "pygments_lexer": "ipython3",
   "version": "3.12.4"
  }
 },
 "nbformat": 4,
 "nbformat_minor": 5
}
