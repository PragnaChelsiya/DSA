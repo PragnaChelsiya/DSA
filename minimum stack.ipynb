{
 "cells": [
  {
   "cell_type": "code",
   "execution_count": null,
   "id": "f00ca080-5e92-4160-b27a-395ca94a56e8",
   "metadata": {},
   "outputs": [],
   "source": [
    "# Class to represent the stack with minimum element tracking\n",
    "class StackWithMin:\n",
    "    def __init__(self):\n",
    "        self.stack = []\n",
    "        self.min_stack = [] \n",
    "\n",
    "    \n",
    "    def push(self, value):\n",
    "        self.stack.append(value)\n",
    "\n",
    "      \n",
    "        if not self.min_stack or value <= self.min_stack[-1]:\n",
    "            self.min_stack.append(value)\n",
    "\n",
    "   \n",
    "    def pop(self):\n",
    "        if self.stack:\n",
    "            popped_value = self.stack.pop()\n",
    "            if popped_value == self.min_stack[-1]:\n",
    "                self.min_stack.pop()\n",
    "\n",
    "   \n",
    "    def get_min(self):\n",
    "        if self.min_stack:\n",
    "            return self.min_stack[-1]\n",
    "        return None\n",
    "\n",
    "# Example usage\n",
    "stack = StackWithMin()\n",
    "stack.push(5)\n",
    "stack.push(3)\n",
    "stack.push(8)\n",
    "stack.push(2)\n",
    "\n",
    "print(\"Minimum element:\", stack.get_min())  # Output: 2\n",
    "\n",
    "stack.pop()\n",
    "print(\"Minimum element after pop:\", stack.get_min())  # Output: 3\n"
   ]
  }
 ],
 "metadata": {
  "kernelspec": {
   "display_name": "Python 3 (ipykernel)",
   "language": "python",
   "name": "python3"
  },
  "language_info": {
   "codemirror_mode": {
    "name": "ipython",
    "version": 3
   },
   "file_extension": ".py",
   "mimetype": "text/x-python",
   "name": "python",
   "nbconvert_exporter": "python",
   "pygments_lexer": "ipython3",
   "version": "3.12.4"
  }
 },
 "nbformat": 4,
 "nbformat_minor": 5
}
