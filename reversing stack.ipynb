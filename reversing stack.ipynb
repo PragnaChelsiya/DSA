{
 "cells": [
  {
   "cell_type": "code",
   "execution_count": 1,
   "id": "894ea623-f47c-4c29-bf77-4f72d0e49964",
   "metadata": {},
   "outputs": [
    {
     "name": "stdout",
     "output_type": "stream",
     "text": [
      "Reversed Stack: [5, 4, 3, 2, 1]\n"
     ]
    }
   ],
   "source": [
    "# Function to reverse the stack\n",
    "def reverse_stack(stack):\n",
    "    \n",
    "    if not stack:\n",
    "        return\n",
    "    top_element = stack.pop()  \n",
    "    reverse_stack(stack)\n",
    "    insert_at_bottom(stack, top_element)\n",
    "def insert_at_bottom(stack, element):\n",
    "   \n",
    "    if not stack:\n",
    "        stack.append(element)\n",
    "        return\n",
    "    top = stack.pop()\n",
    "    insert_at_bottom(stack, element)\n",
    "\n",
    "    stack.append(top)\n",
    "    \n",
    "# Example usage\n",
    "stack = [1, 2, 3, 4, 5]\n",
    "reverse_stack(stack)\n",
    "print(\"Reversed Stack:\", stack)\n"
   ]
  },
  {
   "cell_type": "code",
   "execution_count": null,
   "id": "df50d3e8-6e5a-435e-ac81-5436d53039ef",
   "metadata": {},
   "outputs": [],
   "source": []
  }
 ],
 "metadata": {
  "kernelspec": {
   "display_name": "Python 3 (ipykernel)",
   "language": "python",
   "name": "python3"
  },
  "language_info": {
   "codemirror_mode": {
    "name": "ipython",
    "version": 3
   },
   "file_extension": ".py",
   "mimetype": "text/x-python",
   "name": "python",
   "nbconvert_exporter": "python",
   "pygments_lexer": "ipython3",
   "version": "3.12.4"
  }
 },
 "nbformat": 4,
 "nbformat_minor": 5
}
