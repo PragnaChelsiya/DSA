{
 "cells": [
  {
   "cell_type": "code",
   "execution_count": 13,
   "id": "41a3d9d3-c069-4e4d-8648-59733bcc52c5",
   "metadata": {},
   "outputs": [
    {
     "name": "stdout",
     "output_type": "stream",
     "text": [
      "7\n"
     ]
    }
   ],
   "source": [
    "## one list \n",
    "def gcd(m,n):\n",
    " cf=[]\n",
    " for i in range(1,min(m,n)+1):\n",
    "    if(m%i)==0 and (n%i)==0:\n",
    "      cf.append(i)\n",
    " return(cf[-1])\n",
    "print(gcd(14,63))"
   ]
  },
  {
   "cell_type": "code",
   "execution_count": 21,
   "id": "af88f06e-666a-4bab-8a19-62e43e1c43a1",
   "metadata": {},
   "outputs": [
    {
     "name": "stdout",
     "output_type": "stream",
     "text": [
      "7\n"
     ]
    }
   ],
   "source": [
    "###no list\n",
    "def gcd(m,n):\n",
    "   for i in range(1,min(m,n)+1):\n",
    "       if(m%i)==0 and (n%i)==0:\n",
    "           mrcf=i\n",
    "   return(mrcf)\n",
    "print(gcd(14,63))"
   ]
  },
  {
   "cell_type": "code",
   "execution_count": 37,
   "id": "a44d548d-4339-4c48-8686-af93512e32f1",
   "metadata": {},
   "outputs": [
    {
     "name": "stdout",
     "output_type": "stream",
     "text": [
      "7\n"
     ]
    }
   ],
   "source": [
    "##scan backwards\n",
    "\n",
    "def gcd(m,n):\n",
    "    i=min(m,n)\n",
    "    while i>0:\n",
    "        if (m%i)==0 and (n%i)==0:\n",
    "            return(i)\n",
    "        else:\n",
    "            i=i-1\n",
    "print (gcd(14,63))"
   ]
  },
  {
   "cell_type": "code",
   "execution_count": 39,
   "id": "13a46e66-5265-4047-ae7d-bf3ab542691e",
   "metadata": {},
   "outputs": [
    {
     "name": "stdout",
     "output_type": "stream",
     "text": [
      "7\n"
     ]
    }
   ],
   "source": [
    "def gcd(m, n):\n",
    "    for i in range(min(m, n), 0, -1):  # Start from min(m, n) and scan backward\n",
    "        if (m % i) == 0 and (n % i) == 0:\n",
    "            return i  # Return the first common divisor found\n",
    "print(gcd(14, 63))"
   ]
  },
  {
   "cell_type": "code",
   "execution_count": null,
   "id": "82ab9edd-df58-4f10-95c3-306639759513",
   "metadata": {},
   "outputs": [],
   "source": [
    " "
   ]
  }
 ],
 "metadata": {
  "kernelspec": {
   "display_name": "Python 3 (ipykernel)",
   "language": "python",
   "name": "python3"
  },
  "language_info": {
   "codemirror_mode": {
    "name": "ipython",
    "version": 3
   },
   "file_extension": ".py",
   "mimetype": "text/x-python",
   "name": "python",
   "nbconvert_exporter": "python",
   "pygments_lexer": "ipython3",
   "version": "3.12.4"
  }
 },
 "nbformat": 4,
 "nbformat_minor": 5
}
