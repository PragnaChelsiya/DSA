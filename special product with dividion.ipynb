{
 "cells": [
  {
   "cell_type": "code",
   "execution_count": 11,
   "id": "1a6071e5-5c1c-47ad-9e68-6eb7dbde0c44",
   "metadata": {},
   "outputs": [
    {
     "name": "stdout",
     "output_type": "stream",
     "text": [
      "Original array: [1 2 3 4 5]\n"
     ]
    },
    {
     "ename": "NameError",
     "evalue": "name 'prod_arr' is not defined",
     "output_type": "error",
     "traceback": [
      "\u001b[1;31m---------------------------------------------------------------------------\u001b[0m",
      "\u001b[1;31mNameError\u001b[0m                                 Traceback (most recent call last)",
      "Cell \u001b[1;32mIn[11], line 12\u001b[0m\n\u001b[0;32m     10\u001b[0m    \u001b[38;5;28;01mreturn\u001b[39;00m res\n\u001b[0;32m     11\u001b[0m \u001b[38;5;28mprint\u001b[39m(\u001b[38;5;124m\"\u001b[39m\u001b[38;5;124mOriginal array:\u001b[39m\u001b[38;5;124m\"\u001b[39m,x)\n\u001b[1;32m---> 12\u001b[0m result\u001b[38;5;241m=\u001b[39mprod_ExceptSel_div(x)\n\u001b[0;32m     13\u001b[0m \u001b[38;5;28mprint\u001b[39m(\u001b[38;5;124m\"\u001b[39m\u001b[38;5;124mProduct Array:\u001b[39m\u001b[38;5;124m\"\u001b[39m,result)\n",
      "Cell \u001b[1;32mIn[11], line 8\u001b[0m, in \u001b[0;36mprod_ExceptSel_div\u001b[1;34m(x)\u001b[0m\n\u001b[0;32m      6\u001b[0m prod_array\u001b[38;5;241m=\u001b[39m[]\n\u001b[0;32m      7\u001b[0m \u001b[38;5;28;01mfor\u001b[39;00m i \u001b[38;5;129;01min\u001b[39;00m x:\n\u001b[1;32m----> 8\u001b[0m     prod_arr\u001b[38;5;241m.\u001b[39mappend(total_product\u001b[38;5;241m/\u001b[39m\u001b[38;5;241m/\u001b[39mi)\n\u001b[0;32m      9\u001b[0m \u001b[38;5;28;01mreturn\u001b[39;00m prod_arr\n\u001b[0;32m     10\u001b[0m \u001b[38;5;28;01mreturn\u001b[39;00m res\n",
      "\u001b[1;31mNameError\u001b[0m: name 'prod_arr' is not defined"
     ]
    }
   ],
   "source": [
    "import numpy as np\n",
    "import math\n",
    "x=np.array([1,2,3,4,5])\n",
    "def prod_ExceptSel_div(x):\n",
    "   total_product= math.prod(x)\n",
    "   prod_array=[]\n",
    "   for i in x:\n",
    "       prod_arr.append(total_product//i)\n",
    "   return prod_arr\n",
    "   return res\n",
    "print(\"Original array:\",x)\n",
    "result=prod_ExceptSel_div(x)\n",
    "print(\"Product Array:\",result)"
   ]
  },
  {
   "cell_type": "code",
   "execution_count": null,
   "id": "fe78ea56-bc90-429e-b58d-c170dd381252",
   "metadata": {},
   "outputs": [],
   "source": []
  }
 ],
 "metadata": {
  "kernelspec": {
   "display_name": "Python 3 (ipykernel)",
   "language": "python",
   "name": "python3"
  },
  "language_info": {
   "codemirror_mode": {
    "name": "ipython",
    "version": 3
   },
   "file_extension": ".py",
   "mimetype": "text/x-python",
   "name": "python",
   "nbconvert_exporter": "python",
   "pygments_lexer": "ipython3",
   "version": "3.12.4"
  }
 },
 "nbformat": 4,
 "nbformat_minor": 5
}
